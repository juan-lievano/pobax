{
 "cells": [
  {
   "cell_type": "code",
   "execution_count": 2,
   "id": "ed16767e",
   "metadata": {},
   "outputs": [],
   "source": [
    "from trajectory_to_bayesian_posterior import load_trajectories_and_env_config_from_npz\n",
    "import jax.numpy as jnp\n",
    "from itertools import product"
   ]
  },
  {
   "cell_type": "code",
   "execution_count": 3,
   "id": "843b1497",
   "metadata": {},
   "outputs": [],
   "source": [
    "results_path = 'results/test.npz'\n",
    "trajectories_array, config = load_trajectories_and_env_config_from_npz(trajectories_filepath= results_path)"
   ]
  },
  {
   "cell_type": "code",
   "execution_count": 4,
   "id": "7753eb36",
   "metadata": {},
   "outputs": [
    {
     "data": {
      "text/plain": [
       "{'checkpoint_directory_path': '../../results/lightbulbs_test/lightbulbs_20_8_seed(2024)_time(20250710-123626)_84904cc8f50dd68293efbdc8f03f3bde',\n",
       " 'max_run_time_minutes': 1,\n",
       " 'trajectories_sample_size': 20,\n",
       " 'environment_config_path': '../../pobax/envs/configs/lightbulbs_20_8_config.json',\n",
       " 'random_seed': 0}"
      ]
     },
     "execution_count": 4,
     "metadata": {},
     "output_type": "execute_result"
    }
   ],
   "source": [
    "config"
   ]
  },
  {
   "cell_type": "code",
   "execution_count": 4,
   "id": "773d8cd9",
   "metadata": {},
   "outputs": [],
   "source": [
    "def visual_print(binary_array):\n",
    "    print(' '.join('_' if x == 0 else '1' for x in binary_array))"
   ]
  },
  {
   "cell_type": "code",
   "execution_count": 5,
   "id": "5a2bca81",
   "metadata": {},
   "outputs": [
    {
     "name": "stdout",
     "output_type": "stream",
     "text": [
      "1 _ _ _ 1 1 1 _ 1 _ 1 1 _ _ _ _ 1 _ 1 _\n",
      "_ _ _ _ _ _ _ _ _ _ _ _ _ _ _ _ 1 _ _ _ _\n",
      "\n",
      "1 _ 1 _ 1 1 1 _ 1 _ 1 1 _ _ _ _ _ _ 1 _\n",
      "1 _ _ _ _ _ _ _ _ _ _ _ _ _ _ _ _ _ _ _ _\n",
      "\n",
      "_ _ 1 _ 1 1 1 _ _ _ 1 1 _ _ _ _ _ _ 1 _\n",
      "_ _ _ _ 1 _ _ _ _ _ _ _ _ _ _ _ _ _ _ _ _\n",
      "\n",
      "_ 1 1 _ _ 1 1 _ _ _ 1 1 _ _ _ _ _ _ 1 _\n",
      "_ 1 _ _ _ _ _ _ _ _ _ _ _ _ _ _ _ _ _ _ _\n",
      "\n",
      "_ _ 1 _ _ 1 1 _ _ 1 1 1 _ _ _ _ _ _ 1 _\n",
      "_ 1 _ _ _ _ _ _ _ _ _ _ _ _ _ _ _ _ _ _ _\n",
      "\n",
      "_ 1 1 _ _ 1 1 _ _ 1 1 1 _ _ _ _ _ _ 1 1\n",
      "_ _ _ _ _ _ _ _ _ _ _ _ _ _ _ _ _ 1 _ _ _\n",
      "\n",
      "_ 1 1 _ _ 1 1 1 _ 1 1 1 _ _ _ _ _ 1 1 1\n",
      "_ _ _ 1 _ _ _ _ _ _ _ _ _ _ _ _ _ _ _ _ _\n",
      "\n",
      "_ 1 1 1 _ 1 1 1 _ 1 1 1 _ _ _ 1 _ 1 1 1\n",
      "_ _ _ _ _ _ _ _ _ _ _ _ _ _ _ _ _ _ _ _ 1\n",
      "\n",
      "_ 1 1 1 _ 1 1 1 _ 1 1 1 _ 1 _ 1 _ 1 1 1\n",
      "_ _ _ _ _ _ _ _ _ _ _ _ _ _ _ _ _ _ _ _ 1\n",
      "\n"
     ]
    }
   ],
   "source": [
    "trajectory = trajectories_array[0]\n",
    "for obs, action in zip(trajectory['observations'], trajectory['robot_actions']):\n",
    "    action_vector = jnp.zeros(21)\n",
    "    action_vector = action_vector.at[action].set(1)\n",
    "    visual_print(obs)\n",
    "    visual_print(action_vector)\n",
    "    print()"
   ]
  },
  {
   "cell_type": "markdown",
   "id": "8ff093f8",
   "metadata": {},
   "source": [
    "# temp stuff delete soon"
   ]
  },
  {
   "cell_type": "code",
   "execution_count": 10,
   "id": "908ec8de",
   "metadata": {},
   "outputs": [
    {
     "data": {
      "text/plain": [
       "Array([0, 0, 0, 0, 0, 0, 0, 0, 0, 0, 0, 0, 0, 0, 0, 0, 0, 0, 0, 0], dtype=int32)"
      ]
     },
     "execution_count": 10,
     "metadata": {},
     "output_type": "execute_result"
    }
   ],
   "source": [
    "from trajectory_to_bayesian_posterior import extract_human_actions\n",
    "\n",
    "trajectory = trajectories_array[0]\n",
    "observations = trajectory['observations']\n",
    "robot_actions = trajectory['robot_actions']\n",
    "\n",
    "\n",
    "extract_human_actions(observations[:1], robot_actions[:1])"
   ]
  },
  {
   "cell_type": "code",
   "execution_count": 16,
   "id": "0dd71ad7",
   "metadata": {},
   "outputs": [
    {
     "name": "stdout",
     "output_type": "stream",
     "text": [
      "Positive indices: [2 5]\n",
      "Negative indices: [0 3]\n"
     ]
    }
   ],
   "source": [
    "arr = jnp.array([-2.0, 0.0, 3.5, -1.2, 0.0, 4.1])\n",
    "\n",
    "positive_indices = jnp.where(arr > 0)[0]\n",
    "negative_indices = jnp.where(arr < 0)[0]\n",
    "\n",
    "print(\"Positive indices:\", positive_indices)\n",
    "print(\"Negative indices:\", negative_indices)"
   ]
  },
  {
   "cell_type": "code",
   "execution_count": null,
   "id": "43bdf6d8",
   "metadata": {},
   "outputs": [
    {
     "data": {
      "text/plain": [
       "1"
      ]
     },
     "execution_count": 20,
     "metadata": {},
     "output_type": "execute_result"
    }
   ],
   "source": []
  },
  {
   "cell_type": "code",
   "execution_count": null,
   "id": "7f0933d4",
   "metadata": {},
   "outputs": [],
   "source": []
  }
 ],
 "metadata": {
  "kernelspec": {
   "display_name": "pobax310",
   "language": "python",
   "name": "python3"
  },
  "language_info": {
   "codemirror_mode": {
    "name": "ipython",
    "version": 3
   },
   "file_extension": ".py",
   "mimetype": "text/x-python",
   "name": "python",
   "nbconvert_exporter": "python",
   "pygments_lexer": "ipython3",
   "version": "3.10.18"
  }
 },
 "nbformat": 4,
 "nbformat_minor": 5
}
