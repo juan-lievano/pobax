{
 "cells": [
  {
   "cell_type": "code",
   "execution_count": 8,
   "id": "c3f585f4",
   "metadata": {},
   "outputs": [],
   "source": [
    "import pandas as pd"
   ]
  },
  {
   "cell_type": "code",
   "execution_count": 11,
   "id": "9ea81070",
   "metadata": {},
   "outputs": [],
   "source": [
    "df = pd.read_csv('supervised_learning_data/40_lightbulbs_16_goals_100_trajectories_time__20250817-115001.csv', index_col= False )"
   ]
  },
  {
   "cell_type": "code",
   "execution_count": 12,
   "id": "a241e454",
   "metadata": {},
   "outputs": [
    {
     "data": {
      "text/plain": [
       "Index(['rnn_hidden_state', 'bayes_posterior', 'trajectory_id', 'time_step'], dtype='object')"
      ]
     },
     "execution_count": 12,
     "metadata": {},
     "output_type": "execute_result"
    }
   ],
   "source": [
    "df.columns"
   ]
  },
  {
   "cell_type": "code",
   "execution_count": 30,
   "id": "6be2e473",
   "metadata": {},
   "outputs": [
    {
     "data": {
      "text/plain": [
       "(np.int64(891),\n",
       " np.float64(27.9),\n",
       " count    100.00000\n",
       " mean      27.90000\n",
       " std       87.89037\n",
       " min        8.00000\n",
       " 25%       13.75000\n",
       " 50%       17.00000\n",
       " 75%       21.00000\n",
       " max      891.00000\n",
       " dtype: float64)"
      ]
     },
     "execution_count": 30,
     "metadata": {},
     "output_type": "execute_result"
    }
   ],
   "source": [
    "lens = df.groupby('trajectory_id').size()\n",
    "lens.max(), lens.mean(), lens.describe()"
   ]
  },
  {
   "cell_type": "code",
   "execution_count": null,
   "id": "f0ed8ca1",
   "metadata": {},
   "outputs": [
    {
     "data": {
      "text/plain": [
       "(27.9, 27.9, np.True_)"
      ]
     },
     "execution_count": 25,
     "metadata": {},
     "output_type": "execute_result"
    }
   ],
   "source": [
    "# 2) Recompute via max(time_step) + 1 and compare\n",
    "lens1 = df.groupby('trajectory_id').size()\n",
    "lens2 = df.groupby('trajectory_id')['time_step'].max().add(1)\n",
    "float(lens1.mean()), float(lens2.mean()), (lens1 == lens2).all()\n"
   ]
  },
  {
   "cell_type": "code",
   "execution_count": null,
   "id": "d7a95f41",
   "metadata": {},
   "outputs": [],
   "source": []
  }
 ],
 "metadata": {
  "kernelspec": {
   "display_name": "pobax310",
   "language": "python",
   "name": "python3"
  },
  "language_info": {
   "codemirror_mode": {
    "name": "ipython",
    "version": 3
   },
   "file_extension": ".py",
   "mimetype": "text/x-python",
   "name": "python",
   "nbconvert_exporter": "python",
   "pygments_lexer": "ipython3",
   "version": "3.10.18"
  }
 },
 "nbformat": 4,
 "nbformat_minor": 5
}
